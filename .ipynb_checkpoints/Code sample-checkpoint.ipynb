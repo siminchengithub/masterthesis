{
 "cells": [
  {
   "cell_type": "markdown",
   "metadata": {},
   "source": [
    "# A word-cluster based topic model for document representation\n",
    "\n"
   ]
  },
  {
   "cell_type": "code",
   "execution_count": null,
   "metadata": {
    "collapsed": true
   },
   "outputs": [],
   "source": [
    "class TopicClusterGadget():\n",
    "    \"\"\"\n",
    "        For vectorizing and computing document distance, based on word-topic-clusters in a document. \n",
    "        Implemented wmd_cosine, wmd_euclidean, and soft_cosine\n",
    "    \"\"\"\n",
    "    def __init__(self, tokenizer, cls, distance_measure, word2vec):\n",
    "        self.cls = cls\n",
    "        self.tokenizer = tokenizer\n",
    "        self.word2vec = word2vec\n",
    "        self.distance_measure = distance_measure \n",
    "        self.topics = []\n",
    "        if distance_measure == \"wmd_euclidean\":\n",
    "            self.get_distance = DistanceTool().wmd_distance_euclidean\n",
    "        elif distance_measure == \"wmd_cosine\":\n",
    "            self.get_distance = DistanceTool().wmd_distance_cosine\n",
    "        elif self.distance_measure == \"soft_cosine\":\n",
    "            self.get_distance = DistanceTool().softcosine_distance\n",
    "        \n",
    "    \n",
    "    def tokenize(self, text):\n",
    "        return self.tokenizer(text)\n",
    "    \n",
    "    def vectorize_all(self, train_X, test_X):\n",
    "        train_vecs = [self.encode(t) for t in train_X]\n",
    "        test_vecs = [self.encode(t) for t in test_X]\n",
    "        max_len = np.max(np.concatenate(([len(a) for a in train_vecs], [len(a) for a in test_vecs])))\n",
    "        train_vecs = np.asarray([np.pad(a, (0, max_len - len(a)), 'constant', constant_values=0) for a in train_vecs])\n",
    "        test_vecs = np.asarray([np.pad(a, (0, max_len - len(a)), 'constant', constant_values=0) for a in test_vecs])\n",
    "        return train_vecs, test_vecs\n",
    "        \n",
    "    def encode(self, text):\n",
    "        text = self.tokenize(text)\n",
    "        text = [t for t in text if t in self.word2vec]\n",
    "        word_counter = Counter(text)\n",
    "        word_counts = np.array(list(word_counter.values()))\n",
    "        unique_text = list(word_counter.keys())\n",
    "        vecs = np.array([self.word2vec[w] for w in unique_text])\n",
    "        num_clusters = math.ceil(np.cbrt(len(unique_text)))\n",
    "                                \n",
    "        if self.cls == \"kmeans\": \n",
    "            model = KMeans(n_clusters = num_clusters, random_state=3425, precompute_distances = True)\n",
    "            model.fit(vecs)\n",
    "            distance_matrix = euclidean_distances(vecs)\n",
    "            cluster_centers = model.cluster_centers_\n",
    "        elif self.cls == \"spectral\":\n",
    "            model = SpectralClustering(num_clusters, affinity='precomputed', random_state=3425,\n",
    "                                    assign_labels = \"discretize\", n_init=1)\n",
    "            similarity_matrix = cosine_similarity(vecs)+1 \n",
    "            model.fit(similarity_matrix) \n",
    "            distance_matrix = 2-similarity_matrix\n",
    "           \n",
    "        labels = model.labels_\n",
    "        non_empty_clusters = np.array(list(set(labels)))                         \n",
    "        indices = [np.where(labels == i) if i in non_empty_clusters \n",
    "                                                           else [] for i in range(num_clusters)]\n",
    "        \n",
    "        #silhoutte_scores = silhouette_samples(distance_matrix, labels, metric = 'precomputed')\n",
    "        if self.cls == \"spectral\":\n",
    "             cluster_centers = np.array([np.mean(vecs[indices[i]], axis = 0) for i in non_empty_clusters])\n",
    "        sizes = np.array([sum(word_counts[indices[i]]) for i in non_empty_clusters])\n",
    "        weights = sizes/sum(sizes)\n",
    "        return np.concatenate([[num_clusters], cluster_centers.flatten(), weights])\n",
    "    \n",
    "    def decode(self, a, b):\n",
    "        num_clusters_a, num_clusters_b = int(a[0]), int(b[0])\n",
    "        cut_a, cut_b = 1+300*num_clusters_a, 1+300*num_clusters_b\n",
    "        topics1, topics2 = a[1:cut_a].reshape(-1,300), b[1:cut_b].reshape(-1,300)\n",
    "        weights1, weights2 = a[cut_a:cut_a+num_clusters_a], b[cut_b:cut_b+num_clusters_b]\n",
    "        allTopics = np.concatenate([topics1,topics2])\n",
    "        d1 = np.concatenate([weights1,[0]*len(topics2)])\n",
    "        d2 = np.concatenate([[0]*len(topics1),weights2])\n",
    "        return d1, d2, allTopics\n"
   ]
  }
 ],
 "metadata": {
  "kernelspec": {
   "display_name": "Python 3",
   "language": "python",
   "name": "python3"
  },
  "language_info": {
   "codemirror_mode": {
    "name": "ipython",
    "version": 3
   },
   "file_extension": ".py",
   "mimetype": "text/x-python",
   "name": "python",
   "nbconvert_exporter": "python",
   "pygments_lexer": "ipython3",
   "version": "3.6.3"
  }
 },
 "nbformat": 4,
 "nbformat_minor": 2
}
